{
 "cells": [
  {
   "cell_type": "markdown",
   "metadata": {},
   "source": [
    "# Program to extract Twitter replys for the Old Tweets\n"
   ]
  },
  {
   "cell_type": "raw",
   "metadata": {},
   "source": [
    "Program to extarct TweetID, TweetText,replies,retweets,likes for a selected user account for last 24 months. Takes URL as input and scrapes within the selected date range"
   ]
  },
  {
   "cell_type": "code",
   "execution_count": 14,
   "metadata": {},
   "outputs": [],
   "source": [
    "import pandas as pd\n",
    "import numpy as np\n",
    "import time\n",
    "import csv\n",
    "from selenium import webdriver\n",
    "from webdriver_manager.chrome import ChromeDriverManager\n",
    "#from selenium.webdriver.firefox.firefox_binary import FirefoxBinary\n",
    "from selenium.webdriver.common.keys import Keys\n",
    "from selenium.webdriver.support.ui import WebDriverWait\n",
    "from bs4 import BeautifulSoup as bs"
   ]
  },
  {
   "cell_type": "code",
   "execution_count": 15,
   "metadata": {},
   "outputs": [],
   "source": [
    "def close_browser(browser):\n",
    "    browser.close()\n",
    "    return"
   ]
  },
  {
   "cell_type": "code",
   "execution_count": 16,
   "metadata": {},
   "outputs": [],
   "source": [
    "# start a driver for a web browser:\n",
    "\n",
    "browser  = webdriver.Chrome()    # Chrome\n",
    "#browser  = webdriver.Firefox()    # Firefox"
   ]
  },
  {
   "cell_type": "code",
   "execution_count": 17,
   "metadata": {},
   "outputs": [],
   "source": [
    "# start a driver for a web browser:\n",
    "\n",
    "url = \"https://twitter.com/search?l=&q=from%3Alilmiquela%20since%3A2017-05-01%20until%3A2019-05-31&src=typd&lang=en\"\n",
    "#url = \"https://twitter.com/lilmiquela?lang=en\"\n",
    "browser.get(url)  \n",
    "browser.maximize_window()\n",
    "browser.wait = WebDriverWait(browser, 5)"
   ]
  },
  {
   "cell_type": "markdown",
   "metadata": {},
   "source": [
    "### Read Pages"
   ]
  },
  {
   "cell_type": "code",
   "execution_count": 18,
   "metadata": {},
   "outputs": [],
   "source": [
    "#body = browser.find_element_by_tag_name('body')\n",
    "#for _ in range(1000):\n",
    "#    body.send_keys(Keys.PAGE_DOWN)\n",
    "#    time.sleep(3)\n",
    "#    body.send_keys(Keys.END)\n",
    "#    time.sleep(2)\n",
    "#    body.send_keys(Keys.HOME)\n",
    "#    time.sleep(2)"
   ]
  },
  {
   "cell_type": "code",
   "execution_count": 19,
   "metadata": {},
   "outputs": [],
   "source": [
    "#body = browser.find_element_by_tag_name('body') # For Chrome\n",
    "body = browser.find_element_by_tag_name('html') # For Firefox\n",
    "last_height = browser.execute_script(\"return document.body.scrollHeight\")\n",
    "\n",
    "while True:\n",
    "    browser.execute_script(\"window.scrollTo(0, document.body.scrollHeight);\")\n",
    "    time.sleep(2)\n",
    "    new_height = browser.execute_script(\"return document.body.scrollHeight\")\n",
    "    if new_height == last_height:\n",
    "        break\n",
    "    last_height = new_height"
   ]
  },
  {
   "cell_type": "code",
   "execution_count": 20,
   "metadata": {},
   "outputs": [
    {
     "name": "stdout",
     "output_type": "stream",
     "text": [
      "Total Tweets Extracted : 588\n"
     ]
    }
   ],
   "source": [
    "# Tweet Text\n",
    "\n",
    "tweets = browser.find_elements_by_class_name('TweetTextSize') # Class name is TweetTextSize\n",
    "num_tweets = len(tweets)\n",
    "print('Total Tweets Extracted :',num_tweets)"
   ]
  },
  {
   "cell_type": "code",
   "execution_count": 460,
   "metadata": {},
   "outputs": [],
   "source": [
    "page_source = browser.page_source"
   ]
  },
  {
   "cell_type": "code",
   "execution_count": 461,
   "metadata": {},
   "outputs": [],
   "source": [
    "soup  = bs(browser.page_source,'html.parser')\n",
    "\n",
    "tweet_ID  = []\n",
    "tweet_ID1 = []\n",
    "tweet_text = []\n",
    "user_id = []\n",
    "user_screen_name = []\n",
    "user_name = []\n",
    "\n",
    "for tweet in soup.select(\"div.tweet\"):\n",
    "    tweet_ID.append(tweet['data-tweet-id'])\n",
    "    tweet_ID1.append(tweet['data-item-id']) # Recommended\n",
    "    user_id.append(tweet['data-user-id'])\n",
    "    user_screen_name.append(tweet['data-screen-name'])\n",
    "    user_name.append(tweet['data-name'])    \n",
    "        \n",
    "for tweet in soup.select(\"div.tweet div.content\"):\n",
    "    tweet_text.append(tweet.p.text)   "
   ]
  },
  {
   "cell_type": "code",
   "execution_count": 462,
   "metadata": {},
   "outputs": [],
   "source": [
    "# Replys,Retweets & likes counts\n",
    "\n",
    "All = browser.find_elements_by_xpath('//span[@class = \"ProfileTweet-actionCountForPresentation\"]')\n",
    "num_len_All = len(All)"
   ]
  },
  {
   "cell_type": "code",
   "execution_count": 463,
   "metadata": {
    "scrolled": true
   },
   "outputs": [
    {
     "name": "stdout",
     "output_type": "stream",
     "text": [
      "588\n"
     ]
    }
   ],
   "source": [
    "# Tweet Date\n",
    "date = browser.find_elements_by_class_name('time')\n",
    "num_len_dates = len(date)\n",
    "print(num_len_dates)"
   ]
  },
  {
   "cell_type": "code",
   "execution_count": 465,
   "metadata": {},
   "outputs": [],
   "source": [
    "df=pd.DataFrame()"
   ]
  },
  {
   "cell_type": "code",
   "execution_count": 466,
   "metadata": {},
   "outputs": [],
   "source": [
    "#aList = [reply,retweet]\n",
    "\n",
    "tweet, tweetDate, reply, URL, retweet, na1, like, na2 =([] for i in range(8))\n",
    "\n",
    "i = 0\n",
    "while (i < num_len_All):\n",
    "    reply.append(All[i].text)\n",
    "    i+=1\n",
    "    retweet.append(All[i].text)\n",
    "    i+=1\n",
    "    na1.append(All[i].text)\n",
    "    i+=1\n",
    "    like.append(All[i].text)\n",
    "    i+=1\n",
    "    na2.append(All[i].text)\n",
    "    i+=1\n",
    "\n",
    "i = 0\n",
    "while (i < num_tweets):\n",
    "    tweet.append(tweets[i].text.replace('\\n',''))\n",
    "    tweetDate.append(date[i].text.replace('\\n',''))\n",
    "    \n",
    "    if   (tweetDate[i].find('hours') > 1):\n",
    "        \n",
    "        start = tweetDate[i].find('h')\n",
    "        tweetDate[i] = tweetDate[i][0:start+1] + ' ago'   \n",
    "    i+=1\n",
    "\n",
    "for i in range(len(tweet_ID)):\n",
    "    URL.append('https://twitter.com/lilmiquela/status/' + str(tweet_ID[i]))"
   ]
  },
  {
   "cell_type": "code",
   "execution_count": 21,
   "metadata": {},
   "outputs": [],
   "source": [
    "close_browser(browser)"
   ]
  },
  {
   "cell_type": "code",
   "execution_count": 468,
   "metadata": {},
   "outputs": [
    {
     "data": {
      "text/html": [
       "<div>\n",
       "<style scoped>\n",
       "    .dataframe tbody tr th:only-of-type {\n",
       "        vertical-align: middle;\n",
       "    }\n",
       "\n",
       "    .dataframe tbody tr th {\n",
       "        vertical-align: top;\n",
       "    }\n",
       "\n",
       "    .dataframe thead th {\n",
       "        text-align: right;\n",
       "    }\n",
       "</style>\n",
       "<table border=\"1\" class=\"dataframe\">\n",
       "  <thead>\n",
       "    <tr style=\"text-align: right;\">\n",
       "      <th></th>\n",
       "      <th>Tweet_ID</th>\n",
       "      <th>Tweet_ID1</th>\n",
       "      <th>URL</th>\n",
       "      <th>Text</th>\n",
       "      <th>Date</th>\n",
       "      <th>replies</th>\n",
       "      <th>retweets</th>\n",
       "      <th>likes</th>\n",
       "      <th>User_ID</th>\n",
       "      <th>Screen_Name</th>\n",
       "      <th>User_Name</th>\n",
       "    </tr>\n",
       "  </thead>\n",
       "  <tbody>\n",
       "    <tr>\n",
       "      <th>586</th>\n",
       "      <td>859259565119950848</td>\n",
       "      <td>859259565119950848</td>\n",
       "      <td>https://twitter.com/lilmiquela/status/85925956...</td>\n",
       "      <td>Damn y'all stay mad huh</td>\n",
       "      <td>1 May 2017</td>\n",
       "      <td>1</td>\n",
       "      <td>2</td>\n",
       "      <td>10</td>\n",
       "      <td>715799614084001793</td>\n",
       "      <td>lilmiquela</td>\n",
       "      <td>Miquela</td>\n",
       "    </tr>\n",
       "    <tr>\n",
       "      <th>587</th>\n",
       "      <td>859219534762262528</td>\n",
       "      <td>859219534762262528</td>\n",
       "      <td>https://twitter.com/lilmiquela/status/85921953...</td>\n",
       "      <td>Me @ Coachella</td>\n",
       "      <td>1 May 2017</td>\n",
       "      <td></td>\n",
       "      <td></td>\n",
       "      <td>8</td>\n",
       "      <td>715799614084001793</td>\n",
       "      <td>lilmiquela</td>\n",
       "      <td>Miquela</td>\n",
       "    </tr>\n",
       "  </tbody>\n",
       "</table>\n",
       "</div>"
      ],
      "text/plain": [
       "               Tweet_ID           Tweet_ID1  \\\n",
       "586  859259565119950848  859259565119950848   \n",
       "587  859219534762262528  859219534762262528   \n",
       "\n",
       "                                                   URL  \\\n",
       "586  https://twitter.com/lilmiquela/status/85925956...   \n",
       "587  https://twitter.com/lilmiquela/status/85921953...   \n",
       "\n",
       "                         Text        Date replies retweets likes  \\\n",
       "586  Damn y'all stay mad huh   1 May 2017       1        2    10   \n",
       "587           Me @ Coachella   1 May 2017                      8   \n",
       "\n",
       "                User_ID Screen_Name User_Name  \n",
       "586  715799614084001793  lilmiquela   Miquela  \n",
       "587  715799614084001793  lilmiquela   Miquela  "
      ]
     },
     "execution_count": 468,
     "metadata": {},
     "output_type": "execute_result"
    }
   ],
   "source": [
    "data  = pd.DataFrame({'Tweet_ID' : tweet_ID, 'Tweet_ID1' : tweet_ID1, 'URL' : URL, 'Text' : tweet, 'Date' : tweetDate, 'replies':reply, 'retweets': retweet, 'likes': like, 'User_ID' : user_id, 'Screen_Name' : user_screen_name, 'User_Name' : user_name})\n",
    "data.tail(2)"
   ]
  },
  {
   "cell_type": "code",
   "execution_count": 469,
   "metadata": {},
   "outputs": [],
   "source": [
    "data.to_csv('lilmiquela_tweets_May2017_May2019_1.csv')  "
   ]
  },
  {
   "cell_type": "code",
   "execution_count": null,
   "metadata": {},
   "outputs": [],
   "source": []
  }
 ],
 "metadata": {
  "kernelspec": {
   "display_name": "Python 3",
   "language": "python",
   "name": "python3"
  },
  "language_info": {
   "codemirror_mode": {
    "name": "ipython",
    "version": 3
   },
   "file_extension": ".py",
   "mimetype": "text/x-python",
   "name": "python",
   "nbconvert_exporter": "python",
   "pygments_lexer": "ipython3",
   "version": "3.7.3"
  }
 },
 "nbformat": 4,
 "nbformat_minor": 2
}
