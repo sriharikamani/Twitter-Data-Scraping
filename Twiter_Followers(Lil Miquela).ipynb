{
 "cells": [
  {
   "cell_type": "markdown",
   "metadata": {},
   "source": [
    "# Project - Program To Extract Old tweets, followers and tweets for the user lilMiquela and plot followers growth weekly and monthly basis   "
   ]
  },
  {
   "cell_type": "raw",
   "metadata": {},
   "source": [
    "The purpose of this project is to extract data from Twitter the following information by using \"GetOldTweets3\" package\n",
    "\n",
    "Number of Likes per tweet\n",
    "Number of Retweets per tweet\n",
    "Number of replies per tweet\n",
    "Tweet text for the replies\n",
    "Follower count per month\n",
    "And if possible, follower profile list per month.\n",
    "(Study period: 2017 May-2019 May)"
   ]
  },
  {
   "cell_type": "markdown",
   "metadata": {},
   "source": [
    "# 1. Import Libraries and load dataset"
   ]
  },
  {
   "cell_type": "code",
   "execution_count": 749,
   "metadata": {},
   "outputs": [],
   "source": [
    "import os\n",
    "import csv\n",
    "import GetOldTweets3 as got3\n",
    "import pandas as pd\n",
    "import numpy as np\n",
    "import time\n",
    "import datetime\n",
    "from datetime import datetime\n",
    "import matplotlib.pyplot as plt\n",
    "from matplotlib.ticker import MaxNLocator"
   ]
  },
  {
   "cell_type": "markdown",
   "metadata": {},
   "source": [
    "# 2. Function to extract the Twitter information using GetOldTweets Package"
   ]
  },
  {
   "cell_type": "raw",
   "metadata": {},
   "source": [
    "PARAMETERS\n",
    "----------\n",
    "TwitterCriteria        : A collection of search parameters to be used together with TweetManager\n",
    "setQuerySearch (str)   : A query text to be matched\n",
    "setUsername            : An optional specific username(s) from a twitter account (with or without \"@\")\n",
    "setSince (str)         : A lower bound date (UTC) to restrict search (\"yyyy-mm-dd\" format)\n",
    "setUnti (str)          : An upper bound date (not included) to restrict search (\"yyyy-mm-dd\" format)\n",
    "setMaxTweets (int)     : The maximum number of tweets to be retrieved. ( if unsetted or lower than 1 all possible tweets)\n",
    "setTopTweets (bool)    : If True only the Top Tweets will be retrieved.\n",
    "setNear(str)           : A reference location area from where tweets were generated.\n",
    "setWithin (str)        : A distance radius from \"near\" location (e.g. 15mi)."
   ]
  },
  {
   "cell_type": "markdown",
   "metadata": {},
   "source": [
    "### Set the selection Criteria"
   ]
  },
  {
   "cell_type": "code",
   "execution_count": 863,
   "metadata": {},
   "outputs": [],
   "source": [
    "Criteria = got3.manager.TweetCriteria().setQuerySearch(\"@lilmiquela\").setSince(\"2017-05-01\").setUntil(\"2019-05-01\").setMaxTweets(20000)"
   ]
  },
  {
   "cell_type": "markdown",
   "metadata": {},
   "source": [
    "### Fetch the tweets"
   ]
  },
  {
   "cell_type": "code",
   "execution_count": 864,
   "metadata": {},
   "outputs": [],
   "source": [
    "tweets   = got3.manager.TweetManager.getTweets(Criteria)"
   ]
  },
  {
   "cell_type": "code",
   "execution_count": 865,
   "metadata": {},
   "outputs": [],
   "source": [
    "getTweetsdf              = pd.DataFrame()\n",
    "getTweetsdf['Tweets']    = np.array([tweet.text for tweet in tweets])\n",
    "getTweetsdf['Tweet_Id']  = np.array([tweet.id for tweet in tweets])\n",
    "getTweetsdf['Username']  = np.array([tweet.username for tweet in tweets])\n",
    "getTweetsdf['Date']      = np.array([tweet.date for tweet in tweets])\n",
    "getTweetsdf['Favorites'] = np.array([tweet.favorites for tweet in tweets])\n",
    "getTweetsdf['Retweets']  = np.array([tweet.retweets for tweet in tweets])\n",
    "getTweetsdf['Hashtags']  = np.array([tweet.hashtags for tweet in tweets])"
   ]
  },
  {
   "cell_type": "code",
   "execution_count": 870,
   "metadata": {},
   "outputs": [
    {
     "data": {
      "text/html": [
       "<div>\n",
       "<style scoped>\n",
       "    .dataframe tbody tr th:only-of-type {\n",
       "        vertical-align: middle;\n",
       "    }\n",
       "\n",
       "    .dataframe tbody tr th {\n",
       "        vertical-align: top;\n",
       "    }\n",
       "\n",
       "    .dataframe thead th {\n",
       "        text-align: right;\n",
       "    }\n",
       "</style>\n",
       "<table border=\"1\" class=\"dataframe\">\n",
       "  <thead>\n",
       "    <tr style=\"text-align: right;\">\n",
       "      <th></th>\n",
       "      <th>Tweets</th>\n",
       "      <th>Tweet_Id</th>\n",
       "      <th>Username</th>\n",
       "      <th>Date</th>\n",
       "      <th>Favorites</th>\n",
       "      <th>Retweets</th>\n",
       "      <th>Hashtags</th>\n",
       "    </tr>\n",
       "  </thead>\n",
       "  <tbody>\n",
       "    <tr>\n",
       "      <th>0</th>\n",
       "      <td>@lilmiquela you being called out.</td>\n",
       "      <td>1123363464284708865</td>\n",
       "      <td>azulgris27</td>\n",
       "      <td>2019-04-30 23:08:15+00:00</td>\n",
       "      <td>0</td>\n",
       "      <td>0</td>\n",
       "      <td></td>\n",
       "    </tr>\n",
       "  </tbody>\n",
       "</table>\n",
       "</div>"
      ],
      "text/plain": [
       "                              Tweets             Tweet_Id    Username  \\\n",
       "0  @lilmiquela you being called out.  1123363464284708865  azulgris27   \n",
       "\n",
       "                       Date  Favorites  Retweets Hashtags  \n",
       "0 2019-04-30 23:08:15+00:00          0         0           "
      ]
     },
     "execution_count": 870,
     "metadata": {},
     "output_type": "execute_result"
    }
   ],
   "source": [
    "getTweetsdf.head(1)"
   ]
  },
  {
   "cell_type": "code",
   "execution_count": 871,
   "metadata": {},
   "outputs": [],
   "source": [
    "getTweetsdf.to_csv('lilMiquela_getOldTweetsdf.csv')"
   ]
  },
  {
   "cell_type": "markdown",
   "metadata": {},
   "source": [
    "### Get the MOST Follower IDs using tweepy "
   ]
  },
  {
   "cell_type": "code",
   "execution_count": 872,
   "metadata": {},
   "outputs": [],
   "source": [
    "import tweepy\n",
    "from tweepy import OAuthHandler"
   ]
  },
  {
   "cell_type": "code",
   "execution_count": 873,
   "metadata": {},
   "outputs": [],
   "source": [
    "consumer_key    = 'Kk4wq3V8YD9kwoiR78AyB6eW2'\n",
    "consumer_secret = '1WOGDjP2bZ8iE6LPTGbL5Q3e634Ikpol2TsowtSW6nGi2jJhjz'\n",
    "access_token    = '2453552150-SQv11IQ0nmT5USbBNiHgX19DLBbbNIX4IFf2DDc'\n",
    "access_secret   = 'P8ODdPMyZnOEtRX2OV9NyXfB2zX6yxHbsJ7eYy6B91E10'\n",
    "\n",
    "auth = OAuthHandler(consumer_key, consumer_secret)\n",
    "auth.set_access_token(access_token, access_secret)\n",
    "auth_api = tweepy.API(auth)\n",
    " \n",
    "api = tweepy.API(auth,wait_on_rate_limit=True, wait_on_rate_limit_notify=True, compression=True)"
   ]
  },
  {
   "cell_type": "code",
   "execution_count": 874,
   "metadata": {},
   "outputs": [
    {
     "name": "stdout",
     "output_type": "stream",
     "text": [
      "User Name                          : lilmiquela\n",
      "User ID of lilmiquela is           : 715799614084001793\n",
      "Followers Count                    : 22025\n",
      "Follows Count                      : 381\n",
      "Likes                              : 2903\n"
     ]
    }
   ],
   "source": [
    "user = api.get_user(\"@lilmiquela\")\n",
    "print(\"User Name                          :\",user.screen_name)\n",
    "print(\"User ID of\", user.screen_name, \"is           :\",user.id)\n",
    "print(\"Followers Count                    :\",user.followers_count)\n",
    "print(\"Follows Count                      :\",user.friends_count)\n",
    "print(\"Likes                              :\",user.favourites_count)"
   ]
  },
  {
   "cell_type": "markdown",
   "metadata": {},
   "source": [
    "### Extract User name and User created  using tweepy \"followers\" function"
   ]
  },
  {
   "cell_type": "code",
   "execution_count": 1280,
   "metadata": {},
   "outputs": [],
   "source": [
    "items = 5000\n",
    "users = tweepy.Cursor(api.followers,screen_name=\"lilmiquela\").items(int(items))\n",
    "outtweets = [[d.id,d.name.encode('utf-8'),d.created_at] for d in users]\n",
    "outtweets = pd.DataFrame(outtweets)\n",
    "outtweets.columns=['Id','Name','created_at']"
   ]
  },
  {
   "cell_type": "code",
   "execution_count": 1281,
   "metadata": {},
   "outputs": [
    {
     "data": {
      "text/plain": [
       "(2000, 3)"
      ]
     },
     "execution_count": 1281,
     "metadata": {},
     "output_type": "execute_result"
    }
   ],
   "source": [
    "outtweets.shape"
   ]
  },
  {
   "cell_type": "code",
   "execution_count": 1282,
   "metadata": {},
   "outputs": [],
   "source": [
    "# Extract ONLY date from the timestamp\n",
    "date = outtweets['created_at'].dt.date"
   ]
  },
  {
   "cell_type": "code",
   "execution_count": 1283,
   "metadata": {},
   "outputs": [],
   "source": [
    "data1  = pd.DataFrame({'Id':outtweets['Id'], 'User': outtweets['Name'], 'Date Created': outtweets['created_at'],'Date': date})\n",
    "del(date)"
   ]
  },
  {
   "cell_type": "code",
   "execution_count": 1284,
   "metadata": {},
   "outputs": [],
   "source": [
    "# Write outfiles to directory\n",
    "data1.to_csv('lilMiquela_followers_v2.0.csv')\n",
    "del(data1)"
   ]
  },
  {
   "cell_type": "code",
   "execution_count": 1285,
   "metadata": {},
   "outputs": [],
   "source": [
    "# Load the Followers dataset\n",
    "data = pd.read_csv(\"lilMiquela_followers_v2.0.csv\")\n",
    "data.drop('Unnamed: 0', axis = 1 , inplace= True)\n",
    "os.remove('lilMiquela_followers_v2.0.csv')"
   ]
  },
  {
   "cell_type": "code",
   "execution_count": 1286,
   "metadata": {},
   "outputs": [
    {
     "data": {
      "text/html": [
       "<div>\n",
       "<style scoped>\n",
       "    .dataframe tbody tr th:only-of-type {\n",
       "        vertical-align: middle;\n",
       "    }\n",
       "\n",
       "    .dataframe tbody tr th {\n",
       "        vertical-align: top;\n",
       "    }\n",
       "\n",
       "    .dataframe thead th {\n",
       "        text-align: right;\n",
       "    }\n",
       "</style>\n",
       "<table border=\"1\" class=\"dataframe\">\n",
       "  <thead>\n",
       "    <tr style=\"text-align: right;\">\n",
       "      <th></th>\n",
       "      <th>Id</th>\n",
       "      <th>User</th>\n",
       "      <th>Date Created</th>\n",
       "      <th>Date</th>\n",
       "    </tr>\n",
       "  </thead>\n",
       "  <tbody>\n",
       "    <tr>\n",
       "      <th>0</th>\n",
       "      <td>1007908784059056128</td>\n",
       "      <td>b'Amanda'</td>\n",
       "      <td>2018-06-16 08:52:34</td>\n",
       "      <td>2018-06-16</td>\n",
       "    </tr>\n",
       "  </tbody>\n",
       "</table>\n",
       "</div>"
      ],
      "text/plain": [
       "                    Id       User         Date Created        Date\n",
       "0  1007908784059056128  b'Amanda'  2018-06-16 08:52:34  2018-06-16"
      ]
     },
     "execution_count": 1286,
     "metadata": {},
     "output_type": "execute_result"
    }
   ],
   "source": [
    "data.head(1)"
   ]
  },
  {
   "cell_type": "code",
   "execution_count": 1287,
   "metadata": {},
   "outputs": [],
   "source": [
    "data = data.sort_values(by=['Date'], ascending=False)\n",
    "data = data.reset_index(drop=True)"
   ]
  },
  {
   "cell_type": "code",
   "execution_count": 1288,
   "metadata": {},
   "outputs": [
    {
     "data": {
      "text/html": [
       "<div>\n",
       "<style scoped>\n",
       "    .dataframe tbody tr th:only-of-type {\n",
       "        vertical-align: middle;\n",
       "    }\n",
       "\n",
       "    .dataframe tbody tr th {\n",
       "        vertical-align: top;\n",
       "    }\n",
       "\n",
       "    .dataframe thead th {\n",
       "        text-align: right;\n",
       "    }\n",
       "</style>\n",
       "<table border=\"1\" class=\"dataframe\">\n",
       "  <thead>\n",
       "    <tr style=\"text-align: right;\">\n",
       "      <th></th>\n",
       "      <th>Id</th>\n",
       "      <th>User</th>\n",
       "      <th>Date Created</th>\n",
       "      <th>Date</th>\n",
       "    </tr>\n",
       "  </thead>\n",
       "  <tbody>\n",
       "    <tr>\n",
       "      <th>0</th>\n",
       "      <td>1143281176897101827</td>\n",
       "      <td>b'ellie'</td>\n",
       "      <td>2019-06-24 22:14:08</td>\n",
       "      <td>2019-06-24</td>\n",
       "    </tr>\n",
       "    <tr>\n",
       "      <th>1</th>\n",
       "      <td>1142995164593627142</td>\n",
       "      <td>b'Apollo'</td>\n",
       "      <td>2019-06-24 03:17:37</td>\n",
       "      <td>2019-06-24</td>\n",
       "    </tr>\n",
       "  </tbody>\n",
       "</table>\n",
       "</div>"
      ],
      "text/plain": [
       "                    Id       User         Date Created        Date\n",
       "0  1143281176897101827   b'ellie'  2019-06-24 22:14:08  2019-06-24\n",
       "1  1142995164593627142  b'Apollo'  2019-06-24 03:17:37  2019-06-24"
      ]
     },
     "execution_count": 1288,
     "metadata": {},
     "output_type": "execute_result"
    }
   ],
   "source": [
    "data.head(2)"
   ]
  },
  {
   "cell_type": "markdown",
   "metadata": {},
   "source": [
    "### Create new column \"Days_Old\" which indicates the age of the follower for the user = lilmiquela"
   ]
  },
  {
   "cell_type": "code",
   "execution_count": 1289,
   "metadata": {},
   "outputs": [
    {
     "name": "stderr",
     "output_type": "stream",
     "text": [
      "C:\\Users\\SRIHARI\\Anaconda3\\lib\\site-packages\\ipykernel_launcher.py:9: SettingWithCopyWarning: \n",
      "A value is trying to be set on a copy of a slice from a DataFrame\n",
      "\n",
      "See the caveats in the documentation: http://pandas.pydata.org/pandas-docs/stable/indexing.html#indexing-view-versus-copy\n",
      "  if __name__ == '__main__':\n"
     ]
    }
   ],
   "source": [
    "data['Days_Old']   = 0\n",
    "rec_count          = data.shape[0]\n",
    "\n",
    "for i in range(rec_count):\n",
    "    \n",
    "    then = data[\"Date\"][i]\n",
    "    then = datetime.strptime(then, \"%Y-%m-%d\").date()\n",
    "    diff = today - then\n",
    "    data['Days_Old'][i] = abs(diff).days"
   ]
  },
  {
   "cell_type": "code",
   "execution_count": 1290,
   "metadata": {},
   "outputs": [
    {
     "data": {
      "text/plain": [
       "(2000, 5)"
      ]
     },
     "execution_count": 1290,
     "metadata": {},
     "output_type": "execute_result"
    }
   ],
   "source": [
    "data.shape"
   ]
  },
  {
   "cell_type": "code",
   "execution_count": 1291,
   "metadata": {},
   "outputs": [],
   "source": [
    "data.to_csv('lilMiquela_followers_v2.0.csv')"
   ]
  },
  {
   "cell_type": "markdown",
   "metadata": {},
   "source": [
    "### End of Followers extraction process"
   ]
  },
  {
   "cell_type": "raw",
   "metadata": {},
   "source": []
  },
  {
   "cell_type": "markdown",
   "metadata": {},
   "source": [
    "## Subroutine to followers growth on weekly basis "
   ]
  },
  {
   "cell_type": "code",
   "execution_count": 1292,
   "metadata": {},
   "outputs": [],
   "source": [
    "def get_followers_age_range(week):\n",
    "    \n",
    "    if(week==1):\n",
    "        start = 1\n",
    "        end   = 7\n",
    "        label1 = 'in the current week'\n",
    "       \n",
    "    if(week>1):\n",
    "        start = 7*(week-1) + 1\n",
    "        end   = start + 6\n",
    "\n",
    "    \n",
    "    count = data['Days_Old'][(data['Days_Old']>=start)&(data['Days_Old']<=end)].count()\n",
    "    \n",
    "    if(week==1):\n",
    "        label1 = 'in the current week'\n",
    "        print('{} accounts were created '.format(count) + label1)\n",
    "        \n",
    "    if(week>1):\n",
    "        From = week -1\n",
    "        To = week\n",
    "        label1 = 'between the week ' + str(From) + ' and week ' + str(To)  \n",
    "        print('{} accounts were created '.format(count) + label1)\n",
    "    \n",
    "    return()"
   ]
  },
  {
   "cell_type": "code",
   "execution_count": 1293,
   "metadata": {},
   "outputs": [
    {
     "name": "stdout",
     "output_type": "stream",
     "text": [
      "7 accounts were created in the current week\n"
     ]
    },
    {
     "data": {
      "text/plain": [
       "()"
      ]
     },
     "execution_count": 1293,
     "metadata": {},
     "output_type": "execute_result"
    }
   ],
   "source": [
    "get_followers_age_range(1)"
   ]
  },
  {
   "cell_type": "code",
   "execution_count": 1294,
   "metadata": {},
   "outputs": [
    {
     "name": "stdout",
     "output_type": "stream",
     "text": [
      "9 accounts were created between the week 1 and week 2\n"
     ]
    },
    {
     "data": {
      "text/plain": [
       "()"
      ]
     },
     "execution_count": 1294,
     "metadata": {},
     "output_type": "execute_result"
    }
   ],
   "source": [
    "get_followers_age_range(2)"
   ]
  },
  {
   "cell_type": "code",
   "execution_count": 1295,
   "metadata": {},
   "outputs": [
    {
     "name": "stdout",
     "output_type": "stream",
     "text": [
      "17 accounts were created between the week 2 and week 3\n"
     ]
    },
    {
     "data": {
      "text/plain": [
       "()"
      ]
     },
     "execution_count": 1295,
     "metadata": {},
     "output_type": "execute_result"
    }
   ],
   "source": [
    "get_followers_age_range(3)"
   ]
  },
  {
   "cell_type": "code",
   "execution_count": 1296,
   "metadata": {},
   "outputs": [
    {
     "name": "stdout",
     "output_type": "stream",
     "text": [
      "11 accounts were created between the week 9 and week 10\n"
     ]
    },
    {
     "data": {
      "text/plain": [
       "()"
      ]
     },
     "execution_count": 1296,
     "metadata": {},
     "output_type": "execute_result"
    }
   ],
   "source": [
    "get_followers_age_range(10)"
   ]
  },
  {
   "cell_type": "code",
   "execution_count": 1297,
   "metadata": {},
   "outputs": [],
   "source": [
    "Current_Week  = data['Days_Old'][(data['Days_Old']>=1)&(data['Days_Old']<=7)].count()\n",
    "week1_week2   = data['Days_Old'][(data['Days_Old']>=8)&(data['Days_Old']<=14)].count()\n",
    "week2_week3   = data['Days_Old'][(data['Days_Old']>=15)&(data['Days_Old']<=21)].count()\n",
    "week3_week4   = data['Days_Old'][(data['Days_Old']>=22)&(data['Days_Old']<=28)].count()\n",
    "week4_week5   = data['Days_Old'][(data['Days_Old']>=29)&(data['Days_Old']<=35)].count()\n",
    "week5_week6   = data['Days_Old'][(data['Days_Old']>=36)&(data['Days_Old']<=42)].count()\n",
    "week6_week7   = data['Days_Old'][(data['Days_Old']>=43)&(data['Days_Old']<=49)].count()\n",
    "week7_week8   = data['Days_Old'][(data['Days_Old']>=50)&(data['Days_Old']<=56)].count()\n",
    "week8_week9   = data['Days_Old'][(data['Days_Old']>=57)&(data['Days_Old']<=63)].count()\n",
    "week9_week10  = data['Days_Old'][(data['Days_Old']>=64)&(data['Days_Old']<=70)].count()"
   ]
  },
  {
   "cell_type": "code",
   "execution_count": 1298,
   "metadata": {},
   "outputs": [
    {
     "data": {
      "image/png": "[encoded data removed]",
      "text/plain": [
       "<Figure size 1656x864 with 1 Axes>"
      ]
     },
     "metadata": {
      "needs_background": "light"
     },
     "output_type": "display_data"
    }
   ],
   "source": [
    "list     = []\n",
    "for i in range(10):\n",
    "    list.append(i+1)    \n",
    "    \n",
    "    \n",
    "week_total = [Current_Week,week1_week2,week2_week3,week3_week4,week4_week5,week5_week6,week6_week7,week7_week8,week8_week9,week9_week10]\n",
    "plt.figure(figsize=(23,12))\n",
    "barWidth = 0.5\n",
    "plt.bar(list, week_total,width = barWidth,color='Blue')\n",
    "plt.title(\"lilmiquela followers growth count for the last 10 weeks\\n\",fontsize=45)\n",
    "plt.xlabel(\"Week\",fontsize=35)\n",
    "plt.ylabel(\"Count\",fontsize=35)\n",
    "plt.xticks(fontsize=20)\n",
    "plt.xticks(rotation=90)\n",
    "plt.yticks(fontsize=20)\n",
    "plt.xticks(list,['Present_Week','week1_week2','week2_week3','week3_week4','week4_week5','week5_week6','week6_week7','week7_week8','week8_week9','week9_week10'])\n",
    "\n",
    "# Text on the top of each barplot\n",
    "\n",
    "for i in range(10):\n",
    "    plt.text(x = list[i]-0.09 , y = week_total[i] +0.1 ,s = week_total[i], color = 'Black',size = 20,weight = 'bold')\n",
    "    \n",
    "plt.grid(False)"
   ]
  },
  {
   "cell_type": "code",
   "execution_count": 1260,
   "metadata": {},
   "outputs": [],
   "source": [
    "data1 = data\n",
    "data1['Date'] = pd.to_datetime(data1['Date'], errors='coerce')"
   ]
  },
  {
   "cell_type": "markdown",
   "metadata": {},
   "source": [
    "### Get the followers growth between 2017-06-01  AND 2019-06-01"
   ]
  },
  {
   "cell_type": "code",
   "execution_count": 1268,
   "metadata": {},
   "outputs": [],
   "source": [
    "df = pd.DataFrame({'Date': pd.date_range(start='2017-05-01', end='2019-05-01')})\n",
    "df = df.groupby([data1['Date'].dt.year, data1['Date'].dt.month]).agg({'count'})\n",
    "df.to_csv(\"df.csv\")"
   ]
  },
  {
   "cell_type": "code",
   "execution_count": 1269,
   "metadata": {},
   "outputs": [],
   "source": [
    "# Load the Followers dataset\n",
    "df         = pd.read_csv(\"df.csv\")\n",
    "df.columns = ['Year','Month','New_Followers']\n",
    "os.remove('df.csv')\n",
    "df.dropna(inplace=True)\n",
    "df['Year_Month']    = df['Year'] + '-' + df['Month']\n",
    "df[\"Year\"]          = df[\"Year\"].astype(int)\n",
    "df[\"Month\"]         = df[\"Month\"].astype(int)\n",
    "df[\"New_Followers\"] = df[\"New_Followers\"].astype(int)"
   ]
  },
  {
   "cell_type": "code",
   "execution_count": 1270,
   "metadata": {},
   "outputs": [],
   "source": [
    "df = df.sort_values(by=['Year','Month'], ascending=[True,True])\n",
    "df = df.reset_index(drop=True)"
   ]
  },
  {
   "cell_type": "code",
   "execution_count": 1299,
   "metadata": {},
   "outputs": [
    {
     "data": {
      "image/png": "[encoded data removed]",
      "text/plain": [
       "<Figure size 1656x864 with 1 Axes>"
      ]
     },
     "metadata": {
      "needs_background": "light"
     },
     "output_type": "display_data"
    }
   ],
   "source": [
    "list     = []\n",
    "for i in range(25):\n",
    "    list.append(i)    \n",
    "    \n",
    "month_total = []\n",
    "for i in range(25):\n",
    "    month_total.append(df['New_Followers'][i])\n",
    "\n",
    "plt.figure(figsize=(23,12))\n",
    "barWidth = 0.5\n",
    "plt.bar(list, month_total,width = barWidth,color='Blue')\n",
    "plt.title(\"lilmiquela followers growth count for the period - JUNE 2017 TO JUNE 2019 \\n\",fontsize=30,weight = 'bold')\n",
    "plt.xlabel(\"Month\",fontsize=35)\n",
    "plt.ylabel(\"Count\",fontsize=35)\n",
    "plt.xticks(fontsize=20)\n",
    "plt.xticks(rotation=90)\n",
    "plt.yticks(fontsize=20)\n",
    "plt.xticks(list,['2017-JUN','2017-JUL','2017-AUG','2017-SEP','2017-OCT','2017-NOV','2017-DEC','2018-JAN','2018-FEB','2018-MAR','2018-APR','2018-MAY','2018-JUN','2018-JUL','2018-AUG','2018-SEP','2018-OCT','2018-NOV','2018-DEC','2019-JAN','2019-FEB','2019-MAR','2019-APR','2019-MAY','2019-JUN'])\n",
    "\n",
    "# Text on the top of each barplot\n",
    "\n",
    "for i in range(25):\n",
    "    plt.text(x = list[i] -.2 , y = month_total[i] +1 ,s = month_total[i], color = 'Black',size = 20,weight = 'bold')\n",
    "    \n",
    "plt.grid(False)"
   ]
  },
  {
   "cell_type": "raw",
   "metadata": {},
   "source": []
  },
  {
   "cell_type": "markdown",
   "metadata": {},
   "source": [
    "## Get the Twitter tweet Statistics"
   ]
  }
 ],
 "metadata": {
  "kernelspec": {
   "display_name": "Python 3",
   "language": "python",
   "name": "python3"
  },
  "language_info": {
   "codemirror_mode": {
    "name": "ipython",
    "version": 3
   },
   "file_extension": ".py",
   "mimetype": "text/x-python",
   "name": "python",
   "nbconvert_exporter": "python",
   "pygments_lexer": "ipython3",
   "version": "3.7.3"
  }
 },
 "nbformat": 4,
 "nbformat_minor": 2
}
